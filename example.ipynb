{
 "cells": [
  {
   "cell_type": "code",
   "execution_count": 1,
   "metadata": {
    "collapsed": false
   },
   "outputs": [],
   "source": [
    "import csv\n",
    "import os\n",
    "import tool\n",
    "from IPython.display import display, HTML "
   ]
  },
  {
   "cell_type": "code",
   "execution_count": 2,
   "metadata": {
    "collapsed": false
   },
   "outputs": [
    {
     "name": "stderr",
     "output_type": "stream",
     "text": [
      "子目錄或檔案 example_build 已經存在。\n"
     ]
    }
   ],
   "source": [
    "mkdir example_build"
   ]
  },
  {
   "cell_type": "code",
   "execution_count": 3,
   "metadata": {
    "collapsed": false
   },
   "outputs": [
    {
     "name": "stdout",
     "output_type": "stream",
     "text": [
      "['prosperity', 'prevalent', 'spousal', 'defunct', 'metaphor', 'formidable', 'banishment', 'drudgery', 'usher', 'sanctity', 'preeminence', 'allusion', 'sober', 'imminence', 'diminishment']\n"
     ]
    }
   ],
   "source": [
    "words = []\n",
    "with open(\"example_list.txt\") as wlist:\n",
    "    cr = csv.reader(wlist)\n",
    "    for i in cr:\n",
    "        words.append(i[0])\n",
    "print words"
   ]
  },
  {
   "cell_type": "code",
   "execution_count": 4,
   "metadata": {
    "collapsed": false
   },
   "outputs": [],
   "source": [
    "deck = tool.Deck(words)"
   ]
  },
  {
   "cell_type": "code",
   "execution_count": 5,
   "metadata": {
    "collapsed": false
   },
   "outputs": [
    {
     "name": "stdout",
     "output_type": "stream",
     "text": [
      "Success to build prosperity\n",
      "Success to build prevalent\n",
      "Success to build spousal\n",
      "Success to build defunct\n",
      "Success to build metaphor\n",
      "Success to build formidable\n",
      "Success to build banishment\n",
      "Success to build drudgery\n",
      "Success to build usher\n",
      "Success to build sanctity\n",
      "Success to build preeminence\n",
      "Success to build allusion\n",
      "Success to build sober\n",
      "Success to build imminence\n",
      "Success to build diminishment\n"
     ]
    }
   ],
   "source": [
    "deck.auto_build()"
   ]
  },
  {
   "cell_type": "code",
   "execution_count": 6,
   "metadata": {
    "collapsed": false
   },
   "outputs": [
    {
     "data": {
      "text/html": [
       "<h1>prosperity</h1>"
      ],
      "text/plain": [
       "<IPython.core.display.HTML object>"
      ]
     },
     "metadata": {},
     "output_type": "display_data"
    },
    {
     "data": {
      "text/html": [
       "<span>KK[pr&#593;s&#715;p&#603;r&#601;t&#618;] DJ[pr&#596;s&#715;periti]</span>"
      ],
      "text/plain": [
       "<IPython.core.display.HTML object>"
      ]
     },
     "metadata": {},
     "output_type": "display_data"
    },
    {
     "data": {
      "text/html": [
       "<div><div><h3><span>n.&#21517;&#35422;</span></h3> </div><ul><li><h4>1. &#33288;&#26106;&#65292;&#32321;&#27054;&#65292;&#26124;&#30427;&#65292;&#25104;&#21151;[U]</h4><span>We wish you health, happiness, and <b><b>prosperity</b></b>. <span>&#25105;&#20497;&#31069;&#39000;&#20320;&#20581;&#24247;&#12289;&#24184;&#31119;&#12289;&#20107;&#26989;&#33288;&#26106;&#12290;</span></span></li></ul></div>"
      ],
      "text/plain": [
       "<IPython.core.display.HTML object>"
      ]
     },
     "metadata": {},
     "output_type": "display_data"
    }
   ],
   "source": [
    "i=0\n",
    "display(HTML(\"<h1>{0}</h1>\".format(deck.wordlist[i].vocabulary)))\n",
    "display(HTML(deck.wordlist[i].pronunciation))\n",
    "display(HTML(deck.wordlist[i].description))"
   ]
  },
  {
   "cell_type": "code",
   "execution_count": 7,
   "metadata": {
    "collapsed": false
   },
   "outputs": [
    {
     "name": "stdout",
     "output_type": "stream",
     "text": [
      "done!!\n"
     ]
    }
   ],
   "source": [
    "deck.to_file(\"example_build\")\n",
    "print \"done!!\""
   ]
  },
  {
   "cell_type": "code",
   "execution_count": 8,
   "metadata": {
    "collapsed": false
   },
   "outputs": [
    {
     "data": {
      "text/plain": [
       "<module 'tool' from 'tool.pyc'>"
      ]
     },
     "execution_count": 8,
     "metadata": {},
     "output_type": "execute_result"
    }
   ],
   "source": [
    "reload(tool)"
   ]
  },
  {
   "cell_type": "code",
   "execution_count": null,
   "metadata": {
    "collapsed": true
   },
   "outputs": [],
   "source": []
  }
 ],
 "metadata": {
  "kernelspec": {
   "display_name": "Python 2",
   "language": "python",
   "name": "python2"
  },
  "language_info": {
   "codemirror_mode": {
    "name": "ipython",
    "version": 2
   },
   "file_extension": ".py",
   "mimetype": "text/x-python",
   "name": "python",
   "nbconvert_exporter": "python",
   "pygments_lexer": "ipython2",
   "version": "2.7.6"
  }
 },
 "nbformat": 4,
 "nbformat_minor": 0
}
